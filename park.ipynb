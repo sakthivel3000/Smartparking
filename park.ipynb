{
 "cells": [
  {
   "cell_type": "code",
   "execution_count": 4,
   "metadata": {},
   "outputs": [],
   "source": [
    "import argparse\n",
    "import cv2\n",
    "import numpy as np\n",
    "import os\n",
    "import pickle\n",
    "from ultralytics import YOLO "
   ]
  },
  {
   "cell_type": "code",
   "execution_count": 5,
   "metadata": {},
   "outputs": [
    {
     "name": "stderr",
     "output_type": "stream",
     "text": [
      "usage: ipykernel_launcher.py [-h] video_path regions_path\n",
      "ipykernel_launcher.py: error: the following arguments are required: regions_path\n"
     ]
    },
    {
     "ename": "SystemExit",
     "evalue": "2",
     "output_type": "error",
     "traceback": [
      "An exception has occurred, use %tb to see the full traceback.\n",
      "\u001b[1;31mSystemExit\u001b[0m\u001b[1;31m:\u001b[0m 2\n"
     ]
    }
   ],
   "source": [
    "def get_cars(boxes, class_ids):\n",
    "    cars = []\n",
    "    for i, box in enumerate(boxes):\n",
    "        if class_ids[i] in [2, 5, 7]:  # Adjust class IDs for cars in YOLOv8\n",
    "            cars.append(box)\n",
    "    return np.array(cars)\n",
    "\n",
    "def compute_overlaps(parked_car_boxes, car_boxes):\n",
    "    # Your implementation for computing overlaps between boxes\n",
    "    pass\n",
    "\n",
    "if __name__ == \"__main__\":\n",
    "    parser = argparse.ArgumentParser()\n",
    "    parser.add_argument('video_path', help=\"Video file\")\n",
    "    parser.add_argument('regions_path', help=\"Regions file\", default=\"regions.p\")\n",
    "    args = parser.parse_args()\n",
    "\n",
    "    regions = args.regions_path\n",
    "    with open(regions, 'rb') as f:\n",
    "        parked_car_boxes = pickle.load(f)\n",
    "\n",
    "    VIDEO_SOURCE = args.video_path\n",
    "    alpha = 0.6\n",
    "    video_capture = cv2.VideoCapture(VIDEO_SOURCE)\n",
    "    video_FourCC = cv2.VideoWriter_fourcc('M', 'J', 'P', 'G')\n",
    "    video_fps = video_capture.get(cv2.CAP_PROP_FPS)\n",
    "    video_size = (int(video_capture.get(cv2.CAP_PROP_FRAME_WIDTH)), int(video_capture.get(cv2.CAP_PROP_FRAME_HEIGHT)))\n",
    "    out = cv2.VideoWriter(\"out_test.avi\", video_FourCC, video_fps, video_size)"
   ]
  },
  {
   "cell_type": "code",
   "execution_count": null,
   "metadata": {},
   "outputs": [],
   "source": [
    "    model = YOLO('yolov8n.pt')\n",
    "    while video_capture.isOpened():\n",
    "        success, frame = video_capture.read()\n",
    "        overlay = frame.copy()\n",
    "        if not success:\n",
    "            break"
   ]
  },
  {
   "cell_type": "code",
   "execution_count": null,
   "metadata": {
    "tags": []
   },
   "outputs": [],
   "source": [
    "      results = model(frame)\n",
    "\n",
    "        cars = get_cars(results.boxes, results['classes'])\n",
    "        overlaps = compute_overlaps(parked_car_boxes, cars)\n",
    "\n",
    "        for parking_area, overlap_areas in zip(parked_car_boxes, overlaps):\n",
    "            max_IoU_overlap = np.max(overlap_areas)\n",
    "            if max_IoU_overlap < 0.15:\n",
    "                cv2.fillPoly(overlay, [np.array(parking_area)], (71, 27, 92))\n",
    "                free_space = True\n",
    "\n",
    "        cv2.addWeighted(overlay, alpha, frame, 1 - alpha, 0, frame)\n",
    "\n",
    "        cv2.imshow('output', frame)\n",
    "        out.write(frame)\n",
    "        if cv2.waitKey(1) & 0xFF == ord('q'):\n",
    "            break\n",
    "\n",
    "    video_capture.release()\n",
    "    out.release()\n",
    "    cv2.destroyAllWindows()\n",
    "    print(\"output saved as out.avi\")\n",
    "\n"
   ]
  }
 ],
 "metadata": {
  "kernelspec": {
   "display_name": "Python 3 (ipykernel)",
   "language": "python",
   "name": "python3"
  },
  "language_info": {
   "codemirror_mode": {
    "name": "ipython",
    "version": 3
   },
   "file_extension": ".py",
   "mimetype": "text/x-python",
   "name": "python",
   "nbconvert_exporter": "python",
   "pygments_lexer": "ipython3",
   "version": "3.11.5"
  }
 },
 "nbformat": 4,
 "nbformat_minor": 4
}
